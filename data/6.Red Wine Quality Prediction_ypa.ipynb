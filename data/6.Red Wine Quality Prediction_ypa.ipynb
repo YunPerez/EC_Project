{
 "cells": [
  {
   "cell_type": "markdown",
   "metadata": {},
   "source": [
    "https://www.kaggle.com/datasets/uciml/red-wine-quality-cortez-et-al-2009"
   ]
  },
  {
   "cell_type": "markdown",
   "metadata": {},
   "source": [
    "# Importing Libraries"
   ]
  },
  {
   "cell_type": "code",
   "execution_count": 14,
   "metadata": {},
   "outputs": [],
   "source": [
    "import numpy as np\n",
    "import matplotlib.pyplot as plt  \n",
    "import pandas as pd\n",
    "import seaborn as sns\n",
    "import joblib\n",
    "\n",
    "from warnings import filterwarnings\n",
    "filterwarnings(action='ignore')"
   ]
  },
  {
   "cell_type": "markdown",
   "metadata": {},
   "source": [
    "# Loading Dataset"
   ]
  },
  {
   "cell_type": "code",
   "execution_count": 15,
   "metadata": {
    "scrolled": true
   },
   "outputs": [
    {
     "data": {
      "text/html": [
       "<div>\n",
       "<style scoped>\n",
       "    .dataframe tbody tr th:only-of-type {\n",
       "        vertical-align: middle;\n",
       "    }\n",
       "\n",
       "    .dataframe tbody tr th {\n",
       "        vertical-align: top;\n",
       "    }\n",
       "\n",
       "    .dataframe thead th {\n",
       "        text-align: right;\n",
       "    }\n",
       "</style>\n",
       "<table border=\"1\" class=\"dataframe\">\n",
       "  <thead>\n",
       "    <tr style=\"text-align: right;\">\n",
       "      <th></th>\n",
       "      <th>density</th>\n",
       "      <th>alcohol</th>\n",
       "      <th>citric_acid</th>\n",
       "      <th>residual_sugar</th>\n",
       "      <th>pH</th>\n",
       "      <th>type</th>\n",
       "      <th>quality</th>\n",
       "    </tr>\n",
       "  </thead>\n",
       "  <tbody>\n",
       "    <tr>\n",
       "      <th>4083</th>\n",
       "      <td>1.962984</td>\n",
       "      <td>3.739130</td>\n",
       "      <td>2.734940</td>\n",
       "      <td>1.082822</td>\n",
       "      <td>4.906977</td>\n",
       "      <td>0</td>\n",
       "      <td>2</td>\n",
       "    </tr>\n",
       "    <tr>\n",
       "      <th>2486</th>\n",
       "      <td>2.650087</td>\n",
       "      <td>2.043478</td>\n",
       "      <td>2.734940</td>\n",
       "      <td>2.338957</td>\n",
       "      <td>3.093023</td>\n",
       "      <td>0</td>\n",
       "      <td>2</td>\n",
       "    </tr>\n",
       "    <tr>\n",
       "      <th>4461</th>\n",
       "      <td>2.042799</td>\n",
       "      <td>4.391304</td>\n",
       "      <td>2.301205</td>\n",
       "      <td>1.248466</td>\n",
       "      <td>4.837209</td>\n",
       "      <td>0</td>\n",
       "      <td>3</td>\n",
       "    </tr>\n",
       "    <tr>\n",
       "      <th>2379</th>\n",
       "      <td>2.396761</td>\n",
       "      <td>3.086957</td>\n",
       "      <td>2.030120</td>\n",
       "      <td>1.193252</td>\n",
       "      <td>6.372093</td>\n",
       "      <td>0</td>\n",
       "      <td>1</td>\n",
       "    </tr>\n",
       "    <tr>\n",
       "      <th>10</th>\n",
       "      <td>1.640254</td>\n",
       "      <td>6.217391</td>\n",
       "      <td>3.222892</td>\n",
       "      <td>1.117331</td>\n",
       "      <td>2.883721</td>\n",
       "      <td>0</td>\n",
       "      <td>2</td>\n",
       "    </tr>\n",
       "    <tr>\n",
       "      <th>5365</th>\n",
       "      <td>2.316946</td>\n",
       "      <td>8.826087</td>\n",
       "      <td>3.439759</td>\n",
       "      <td>1.276074</td>\n",
       "      <td>5.186047</td>\n",
       "      <td>1</td>\n",
       "      <td>3</td>\n",
       "    </tr>\n",
       "    <tr>\n",
       "      <th>1127</th>\n",
       "      <td>1.848467</td>\n",
       "      <td>6.217391</td>\n",
       "      <td>2.572289</td>\n",
       "      <td>1.724693</td>\n",
       "      <td>4.558140</td>\n",
       "      <td>0</td>\n",
       "      <td>4</td>\n",
       "    </tr>\n",
       "    <tr>\n",
       "      <th>4013</th>\n",
       "      <td>2.521689</td>\n",
       "      <td>3.347826</td>\n",
       "      <td>2.301205</td>\n",
       "      <td>2.504601</td>\n",
       "      <td>3.511628</td>\n",
       "      <td>0</td>\n",
       "      <td>3</td>\n",
       "    </tr>\n",
       "    <tr>\n",
       "      <th>3673</th>\n",
       "      <td>1.053788</td>\n",
       "      <td>8.304348</td>\n",
       "      <td>2.626506</td>\n",
       "      <td>1.082822</td>\n",
       "      <td>5.116279</td>\n",
       "      <td>0</td>\n",
       "      <td>4</td>\n",
       "    </tr>\n",
       "    <tr>\n",
       "      <th>3440</th>\n",
       "      <td>1.546559</td>\n",
       "      <td>6.217391</td>\n",
       "      <td>2.734940</td>\n",
       "      <td>1.110429</td>\n",
       "      <td>4.069767</td>\n",
       "      <td>0</td>\n",
       "      <td>2</td>\n",
       "    </tr>\n",
       "    <tr>\n",
       "      <th>5793</th>\n",
       "      <td>2.455755</td>\n",
       "      <td>4.521739</td>\n",
       "      <td>1.054217</td>\n",
       "      <td>1.234663</td>\n",
       "      <td>5.883721</td>\n",
       "      <td>1</td>\n",
       "      <td>3</td>\n",
       "    </tr>\n",
       "    <tr>\n",
       "      <th>2338</th>\n",
       "      <td>2.813187</td>\n",
       "      <td>3.217391</td>\n",
       "      <td>2.626506</td>\n",
       "      <td>2.076687</td>\n",
       "      <td>6.302326</td>\n",
       "      <td>0</td>\n",
       "      <td>2</td>\n",
       "    </tr>\n",
       "    <tr>\n",
       "      <th>1553</th>\n",
       "      <td>2.577212</td>\n",
       "      <td>4.913043</td>\n",
       "      <td>3.656627</td>\n",
       "      <td>1.966258</td>\n",
       "      <td>5.953488</td>\n",
       "      <td>0</td>\n",
       "      <td>4</td>\n",
       "    </tr>\n",
       "    <tr>\n",
       "      <th>4129</th>\n",
       "      <td>1.468479</td>\n",
       "      <td>8.043478</td>\n",
       "      <td>2.680723</td>\n",
       "      <td>1.745399</td>\n",
       "      <td>4.488372</td>\n",
       "      <td>0</td>\n",
       "      <td>4</td>\n",
       "    </tr>\n",
       "    <tr>\n",
       "      <th>5449</th>\n",
       "      <td>2.889532</td>\n",
       "      <td>3.608696</td>\n",
       "      <td>2.301205</td>\n",
       "      <td>1.303681</td>\n",
       "      <td>4.279070</td>\n",
       "      <td>1</td>\n",
       "      <td>3</td>\n",
       "    </tr>\n",
       "    <tr>\n",
       "      <th>3116</th>\n",
       "      <td>1.727010</td>\n",
       "      <td>4.913043</td>\n",
       "      <td>3.006024</td>\n",
       "      <td>1.262270</td>\n",
       "      <td>4.697674</td>\n",
       "      <td>0</td>\n",
       "      <td>4</td>\n",
       "    </tr>\n",
       "    <tr>\n",
       "      <th>3555</th>\n",
       "      <td>2.129555</td>\n",
       "      <td>3.478261</td>\n",
       "      <td>1.813253</td>\n",
       "      <td>1.759202</td>\n",
       "      <td>3.372093</td>\n",
       "      <td>0</td>\n",
       "      <td>3</td>\n",
       "    </tr>\n",
       "    <tr>\n",
       "      <th>6241</th>\n",
       "      <td>2.434933</td>\n",
       "      <td>4.260870</td>\n",
       "      <td>1.108434</td>\n",
       "      <td>1.151840</td>\n",
       "      <td>5.465116</td>\n",
       "      <td>1</td>\n",
       "      <td>3</td>\n",
       "    </tr>\n",
       "    <tr>\n",
       "      <th>2199</th>\n",
       "      <td>2.646617</td>\n",
       "      <td>2.956522</td>\n",
       "      <td>3.277108</td>\n",
       "      <td>2.476994</td>\n",
       "      <td>4.627907</td>\n",
       "      <td>0</td>\n",
       "      <td>3</td>\n",
       "    </tr>\n",
       "    <tr>\n",
       "      <th>1745</th>\n",
       "      <td>2.837478</td>\n",
       "      <td>1.782609</td>\n",
       "      <td>2.680723</td>\n",
       "      <td>2.573620</td>\n",
       "      <td>4.069767</td>\n",
       "      <td>0</td>\n",
       "      <td>2</td>\n",
       "    </tr>\n",
       "    <tr>\n",
       "      <th>5950</th>\n",
       "      <td>1.949104</td>\n",
       "      <td>7.391304</td>\n",
       "      <td>1.271084</td>\n",
       "      <td>1.248466</td>\n",
       "      <td>6.860465</td>\n",
       "      <td>1</td>\n",
       "      <td>2</td>\n",
       "    </tr>\n",
       "    <tr>\n",
       "      <th>5924</th>\n",
       "      <td>2.133025</td>\n",
       "      <td>7.000000</td>\n",
       "      <td>2.734940</td>\n",
       "      <td>1.179448</td>\n",
       "      <td>5.813953</td>\n",
       "      <td>1</td>\n",
       "      <td>3</td>\n",
       "    </tr>\n",
       "    <tr>\n",
       "      <th>6218</th>\n",
       "      <td>2.882591</td>\n",
       "      <td>3.739130</td>\n",
       "      <td>2.843373</td>\n",
       "      <td>1.276074</td>\n",
       "      <td>4.767442</td>\n",
       "      <td>1</td>\n",
       "      <td>2</td>\n",
       "    </tr>\n",
       "    <tr>\n",
       "      <th>5910</th>\n",
       "      <td>2.549451</td>\n",
       "      <td>3.608696</td>\n",
       "      <td>1.813253</td>\n",
       "      <td>1.207055</td>\n",
       "      <td>4.558140</td>\n",
       "      <td>1</td>\n",
       "      <td>2</td>\n",
       "    </tr>\n",
       "    <tr>\n",
       "      <th>998</th>\n",
       "      <td>3.184500</td>\n",
       "      <td>2.565217</td>\n",
       "      <td>2.626506</td>\n",
       "      <td>3.325920</td>\n",
       "      <td>3.302326</td>\n",
       "      <td>0</td>\n",
       "      <td>3</td>\n",
       "    </tr>\n",
       "  </tbody>\n",
       "</table>\n",
       "</div>"
      ],
      "text/plain": [
       "       density   alcohol  citric_acid  residual_sugar        pH  type  quality\n",
       "4083  1.962984  3.739130     2.734940        1.082822  4.906977     0        2\n",
       "2486  2.650087  2.043478     2.734940        2.338957  3.093023     0        2\n",
       "4461  2.042799  4.391304     2.301205        1.248466  4.837209     0        3\n",
       "2379  2.396761  3.086957     2.030120        1.193252  6.372093     0        1\n",
       "10    1.640254  6.217391     3.222892        1.117331  2.883721     0        2\n",
       "5365  2.316946  8.826087     3.439759        1.276074  5.186047     1        3\n",
       "1127  1.848467  6.217391     2.572289        1.724693  4.558140     0        4\n",
       "4013  2.521689  3.347826     2.301205        2.504601  3.511628     0        3\n",
       "3673  1.053788  8.304348     2.626506        1.082822  5.116279     0        4\n",
       "3440  1.546559  6.217391     2.734940        1.110429  4.069767     0        2\n",
       "5793  2.455755  4.521739     1.054217        1.234663  5.883721     1        3\n",
       "2338  2.813187  3.217391     2.626506        2.076687  6.302326     0        2\n",
       "1553  2.577212  4.913043     3.656627        1.966258  5.953488     0        4\n",
       "4129  1.468479  8.043478     2.680723        1.745399  4.488372     0        4\n",
       "5449  2.889532  3.608696     2.301205        1.303681  4.279070     1        3\n",
       "3116  1.727010  4.913043     3.006024        1.262270  4.697674     0        4\n",
       "3555  2.129555  3.478261     1.813253        1.759202  3.372093     0        3\n",
       "6241  2.434933  4.260870     1.108434        1.151840  5.465116     1        3\n",
       "2199  2.646617  2.956522     3.277108        2.476994  4.627907     0        3\n",
       "1745  2.837478  1.782609     2.680723        2.573620  4.069767     0        2\n",
       "5950  1.949104  7.391304     1.271084        1.248466  6.860465     1        2\n",
       "5924  2.133025  7.000000     2.734940        1.179448  5.813953     1        3\n",
       "6218  2.882591  3.739130     2.843373        1.276074  4.767442     1        2\n",
       "5910  2.549451  3.608696     1.813253        1.207055  4.558140     1        2\n",
       "998   3.184500  2.565217     2.626506        3.325920  3.302326     0        3"
      ]
     },
     "execution_count": 15,
     "metadata": {},
     "output_type": "execute_result"
    }
   ],
   "source": [
    "wine = pd.read_csv(\"/Users/yunperez/Documents/GitHub/EC_Project/data/winequality.csv\")\n",
    "wine.sample(25)"
   ]
  },
  {
   "cell_type": "code",
   "execution_count": 16,
   "metadata": {},
   "outputs": [],
   "source": [
    " # Load dataset\n",
    "data = pd.read_csv(\"/Users/yunperez/Documents/GitHub/EC_Project/data/winequality.csv\")\n",
    "# Check for missing values\n",
    "data.isna().sum()\n",
    "# Remove duplicate data\n",
    "data.drop_duplicates(keep='first')\n",
    "# Calculate the correlation matrix\n",
    "corr_matrix = data.corr()\n",
    "# Label quality into Good (1) and Bad (0)\n",
    "data['quality'] = data['quality'].apply(lambda x: 1 if x >= 6.0 else 0)\n",
    "    # Drop the target variable\n",
    "X = data.drop('quality', axis=1)\n",
    "# Set the target variable as the label\n",
    "y = data['quality']"
   ]
  },
  {
   "cell_type": "code",
   "execution_count": 17,
   "metadata": {},
   "outputs": [
    {
     "name": "stdout",
     "output_type": "stream",
     "text": [
      "<class 'pandas.core.frame.DataFrame'>\n",
      "RangeIndex: 6497 entries, 0 to 6496\n",
      "Data columns (total 7 columns):\n",
      " #   Column          Non-Null Count  Dtype  \n",
      "---  ------          --------------  -----  \n",
      " 0   density         6497 non-null   float64\n",
      " 1   alcohol         6497 non-null   float64\n",
      " 2   citric_acid     6497 non-null   float64\n",
      " 3   residual_sugar  6497 non-null   float64\n",
      " 4   pH              6497 non-null   float64\n",
      " 5   type            6497 non-null   int64  \n",
      " 6   quality         6497 non-null   int64  \n",
      "dtypes: float64(5), int64(2)\n",
      "memory usage: 355.4 KB\n"
     ]
    }
   ],
   "source": [
    "data.info()"
   ]
  },
  {
   "cell_type": "code",
   "execution_count": 18,
   "metadata": {},
   "outputs": [
    {
     "name": "stdout",
     "output_type": "stream",
     "text": [
      "<class 'pandas.core.frame.DataFrame'>\n",
      "RangeIndex: 6497 entries, 0 to 6496\n",
      "Data columns (total 7 columns):\n",
      " #   Column          Non-Null Count  Dtype  \n",
      "---  ------          --------------  -----  \n",
      " 0   density         6497 non-null   float64\n",
      " 1   alcohol         6497 non-null   float64\n",
      " 2   citric_acid     6497 non-null   float64\n",
      " 3   residual_sugar  6497 non-null   float64\n",
      " 4   pH              6497 non-null   float64\n",
      " 5   type            6497 non-null   int64  \n",
      " 6   quality         6497 non-null   int64  \n",
      "dtypes: float64(5), int64(2)\n",
      "memory usage: 355.4 KB\n"
     ]
    }
   ],
   "source": [
    "wine.info()"
   ]
  },
  {
   "cell_type": "markdown",
   "metadata": {},
   "source": [
    "# Description"
   ]
  },
  {
   "cell_type": "code",
   "execution_count": 19,
   "metadata": {},
   "outputs": [
    {
     "data": {
      "text/html": [
       "<div>\n",
       "<style scoped>\n",
       "    .dataframe tbody tr th:only-of-type {\n",
       "        vertical-align: middle;\n",
       "    }\n",
       "\n",
       "    .dataframe tbody tr th {\n",
       "        vertical-align: top;\n",
       "    }\n",
       "\n",
       "    .dataframe thead th {\n",
       "        text-align: right;\n",
       "    }\n",
       "</style>\n",
       "<table border=\"1\" class=\"dataframe\">\n",
       "  <thead>\n",
       "    <tr style=\"text-align: right;\">\n",
       "      <th></th>\n",
       "      <th>density</th>\n",
       "      <th>alcohol</th>\n",
       "      <th>citric_acid</th>\n",
       "      <th>residual_sugar</th>\n",
       "      <th>pH</th>\n",
       "      <th>type</th>\n",
       "      <th>quality</th>\n",
       "    </tr>\n",
       "  </thead>\n",
       "  <tbody>\n",
       "    <tr>\n",
       "      <th>count</th>\n",
       "      <td>6497.000000</td>\n",
       "      <td>6497.000000</td>\n",
       "      <td>6497.000000</td>\n",
       "      <td>6497.000000</td>\n",
       "      <td>6497.000000</td>\n",
       "      <td>6497.000000</td>\n",
       "      <td>6497.000000</td>\n",
       "    </tr>\n",
       "    <tr>\n",
       "      <th>mean</th>\n",
       "      <td>2.316362</td>\n",
       "      <td>4.250175</td>\n",
       "      <td>2.727529</td>\n",
       "      <td>1.668545</td>\n",
       "      <td>4.477913</td>\n",
       "      <td>0.246114</td>\n",
       "      <td>2.818378</td>\n",
       "    </tr>\n",
       "    <tr>\n",
       "      <th>std</th>\n",
       "      <td>0.520302</td>\n",
       "      <td>1.555711</td>\n",
       "      <td>0.787868</td>\n",
       "      <td>0.656752</td>\n",
       "      <td>1.121771</td>\n",
       "      <td>0.430779</td>\n",
       "      <td>0.873255</td>\n",
       "    </tr>\n",
       "    <tr>\n",
       "      <th>min</th>\n",
       "      <td>1.000000</td>\n",
       "      <td>1.000000</td>\n",
       "      <td>1.000000</td>\n",
       "      <td>1.000000</td>\n",
       "      <td>1.000000</td>\n",
       "      <td>0.000000</td>\n",
       "      <td>0.000000</td>\n",
       "    </tr>\n",
       "    <tr>\n",
       "      <th>25%</th>\n",
       "      <td>1.907461</td>\n",
       "      <td>2.956522</td>\n",
       "      <td>2.355422</td>\n",
       "      <td>1.165644</td>\n",
       "      <td>3.720930</td>\n",
       "      <td>0.000000</td>\n",
       "      <td>2.000000</td>\n",
       "    </tr>\n",
       "    <tr>\n",
       "      <th>50%</th>\n",
       "      <td>2.349913</td>\n",
       "      <td>4.000000</td>\n",
       "      <td>2.680723</td>\n",
       "      <td>1.331288</td>\n",
       "      <td>4.418605</td>\n",
       "      <td>0.000000</td>\n",
       "      <td>3.000000</td>\n",
       "    </tr>\n",
       "    <tr>\n",
       "      <th>75%</th>\n",
       "      <td>2.714286</td>\n",
       "      <td>5.304348</td>\n",
       "      <td>3.114458</td>\n",
       "      <td>2.035276</td>\n",
       "      <td>5.186047</td>\n",
       "      <td>0.000000</td>\n",
       "      <td>3.000000</td>\n",
       "    </tr>\n",
       "    <tr>\n",
       "      <th>max</th>\n",
       "      <td>10.000000</td>\n",
       "      <td>10.000000</td>\n",
       "      <td>10.000000</td>\n",
       "      <td>10.000000</td>\n",
       "      <td>10.000000</td>\n",
       "      <td>1.000000</td>\n",
       "      <td>6.000000</td>\n",
       "    </tr>\n",
       "  </tbody>\n",
       "</table>\n",
       "</div>"
      ],
      "text/plain": [
       "           density      alcohol  citric_acid  residual_sugar           pH  \\\n",
       "count  6497.000000  6497.000000  6497.000000     6497.000000  6497.000000   \n",
       "mean      2.316362     4.250175     2.727529        1.668545     4.477913   \n",
       "std       0.520302     1.555711     0.787868        0.656752     1.121771   \n",
       "min       1.000000     1.000000     1.000000        1.000000     1.000000   \n",
       "25%       1.907461     2.956522     2.355422        1.165644     3.720930   \n",
       "50%       2.349913     4.000000     2.680723        1.331288     4.418605   \n",
       "75%       2.714286     5.304348     3.114458        2.035276     5.186047   \n",
       "max      10.000000    10.000000    10.000000       10.000000    10.000000   \n",
       "\n",
       "              type      quality  \n",
       "count  6497.000000  6497.000000  \n",
       "mean      0.246114     2.818378  \n",
       "std       0.430779     0.873255  \n",
       "min       0.000000     0.000000  \n",
       "25%       0.000000     2.000000  \n",
       "50%       0.000000     3.000000  \n",
       "75%       0.000000     3.000000  \n",
       "max       1.000000     6.000000  "
      ]
     },
     "execution_count": 19,
     "metadata": {},
     "output_type": "execute_result"
    }
   ],
   "source": [
    "wine.describe()"
   ]
  },
  {
   "cell_type": "markdown",
   "metadata": {},
   "source": [
    "# Finding Null Values"
   ]
  },
  {
   "cell_type": "code",
   "execution_count": 20,
   "metadata": {},
   "outputs": [
    {
     "data": {
      "text/plain": [
       "density           0\n",
       "alcohol           0\n",
       "citric_acid       0\n",
       "residual_sugar    0\n",
       "pH                0\n",
       "type              0\n",
       "quality           0\n",
       "dtype: int64"
      ]
     },
     "execution_count": 20,
     "metadata": {},
     "output_type": "execute_result"
    }
   ],
   "source": [
    "wine.isnull().sum()"
   ]
  },
  {
   "cell_type": "code",
   "execution_count": 21,
   "metadata": {},
   "outputs": [
    {
     "data": {
      "text/html": [
       "<div>\n",
       "<style scoped>\n",
       "    .dataframe tbody tr th:only-of-type {\n",
       "        vertical-align: middle;\n",
       "    }\n",
       "\n",
       "    .dataframe tbody tr th {\n",
       "        vertical-align: top;\n",
       "    }\n",
       "\n",
       "    .dataframe thead th {\n",
       "        text-align: right;\n",
       "    }\n",
       "</style>\n",
       "<table border=\"1\" class=\"dataframe\">\n",
       "  <thead>\n",
       "    <tr style=\"text-align: right;\">\n",
       "      <th></th>\n",
       "      <th>density</th>\n",
       "      <th>alcohol</th>\n",
       "      <th>citric_acid</th>\n",
       "      <th>residual_sugar</th>\n",
       "      <th>pH</th>\n",
       "      <th>type</th>\n",
       "    </tr>\n",
       "    <tr>\n",
       "      <th>quality</th>\n",
       "      <th></th>\n",
       "      <th></th>\n",
       "      <th></th>\n",
       "      <th></th>\n",
       "      <th></th>\n",
       "      <th></th>\n",
       "    </tr>\n",
       "  </thead>\n",
       "  <tbody>\n",
       "    <tr>\n",
       "      <th>0</th>\n",
       "      <td>2.498091</td>\n",
       "      <td>3.889130</td>\n",
       "      <td>2.523494</td>\n",
       "      <td>1.626687</td>\n",
       "      <td>4.751163</td>\n",
       "      <td>0.333333</td>\n",
       "    </tr>\n",
       "    <tr>\n",
       "      <th>1</th>\n",
       "      <td>2.339960</td>\n",
       "      <td>3.843599</td>\n",
       "      <td>2.476406</td>\n",
       "      <td>1.490542</td>\n",
       "      <td>4.569444</td>\n",
       "      <td>0.245370</td>\n",
       "    </tr>\n",
       "    <tr>\n",
       "      <th>2</th>\n",
       "      <td>2.516308</td>\n",
       "      <td>3.397108</td>\n",
       "      <td>2.668373</td>\n",
       "      <td>1.718360</td>\n",
       "      <td>4.433876</td>\n",
       "      <td>0.318522</td>\n",
       "    </tr>\n",
       "    <tr>\n",
       "      <th>3</th>\n",
       "      <td>2.292367</td>\n",
       "      <td>4.375069</td>\n",
       "      <td>2.754363</td>\n",
       "      <td>1.683248</td>\n",
       "      <td>4.472505</td>\n",
       "      <td>0.224965</td>\n",
       "    </tr>\n",
       "    <tr>\n",
       "      <th>4</th>\n",
       "      <td>2.043825</td>\n",
       "      <td>5.416529</td>\n",
       "      <td>2.814984</td>\n",
       "      <td>1.570326</td>\n",
       "      <td>4.544690</td>\n",
       "      <td>0.184430</td>\n",
       "    </tr>\n",
       "    <tr>\n",
       "      <th>5</th>\n",
       "      <td>1.937569</td>\n",
       "      <td>5.798378</td>\n",
       "      <td>2.802922</td>\n",
       "      <td>1.660216</td>\n",
       "      <td>4.510784</td>\n",
       "      <td>0.093264</td>\n",
       "    </tr>\n",
       "    <tr>\n",
       "      <th>6</th>\n",
       "      <td>1.754772</td>\n",
       "      <td>6.452174</td>\n",
       "      <td>3.092771</td>\n",
       "      <td>1.485890</td>\n",
       "      <td>5.102326</td>\n",
       "      <td>0.000000</td>\n",
       "    </tr>\n",
       "  </tbody>\n",
       "</table>\n",
       "</div>"
      ],
      "text/plain": [
       "          density   alcohol  citric_acid  residual_sugar        pH      type\n",
       "quality                                                                     \n",
       "0        2.498091  3.889130     2.523494        1.626687  4.751163  0.333333\n",
       "1        2.339960  3.843599     2.476406        1.490542  4.569444  0.245370\n",
       "2        2.516308  3.397108     2.668373        1.718360  4.433876  0.318522\n",
       "3        2.292367  4.375069     2.754363        1.683248  4.472505  0.224965\n",
       "4        2.043825  5.416529     2.814984        1.570326  4.544690  0.184430\n",
       "5        1.937569  5.798378     2.802922        1.660216  4.510784  0.093264\n",
       "6        1.754772  6.452174     3.092771        1.485890  5.102326  0.000000"
      ]
     },
     "execution_count": 21,
     "metadata": {},
     "output_type": "execute_result"
    }
   ],
   "source": [
    "wine.groupby('quality').mean()"
   ]
  },
  {
   "cell_type": "markdown",
   "metadata": {},
   "source": [
    "# Data Analysis"
   ]
  },
  {
   "cell_type": "markdown",
   "metadata": {},
   "source": [
    "## Countplot:"
   ]
  },
  {
   "cell_type": "code",
   "execution_count": 22,
   "metadata": {},
   "outputs": [
    {
     "data": {
      "image/png": "[encoded data removed]",
      "text/plain": [
       "<Figure size 640x480 with 1 Axes>"
      ]
     },
     "metadata": {},
     "output_type": "display_data"
    }
   ],
   "source": [
    "sns.countplot(wine['quality'])\n",
    "plt.show()"
   ]
  },
  {
   "cell_type": "code",
   "execution_count": 23,
   "metadata": {},
   "outputs": [
    {
     "data": {
      "text/plain": [
       "density              Axes(0.125,0.712609;0.168478x0.167391)\n",
       "alcohol           Axes(0.327174,0.712609;0.168478x0.167391)\n",
       "citric_acid       Axes(0.529348,0.712609;0.168478x0.167391)\n",
       "residual_sugar    Axes(0.731522,0.712609;0.168478x0.167391)\n",
       "pH                   Axes(0.125,0.511739;0.168478x0.167391)\n",
       "type              Axes(0.327174,0.511739;0.168478x0.167391)\n",
       "quality           Axes(0.529348,0.511739;0.168478x0.167391)\n",
       "dtype: object"
      ]
     },
     "execution_count": 23,
     "metadata": {},
     "output_type": "execute_result"
    },
    {
     "data": {
      "image/png": "[encoded data removed]",
      "text/plain": [
       "<Figure size 640x480 with 16 Axes>"
      ]
     },
     "metadata": {},
     "output_type": "display_data"
    }
   ],
   "source": [
    "wine.plot(kind ='box',subplots = True, layout =(4,4),sharex = False)"
   ]
  },
  {
   "cell_type": "markdown",
   "metadata": {},
   "source": [
    "## Histogram"
   ]
  },
  {
   "cell_type": "code",
   "execution_count": 24,
   "metadata": {},
   "outputs": [
    {
     "data": {
      "image/png": "[encoded data removed]",
      "text/plain": [
       "<Figure size 1000x1000 with 9 Axes>"
      ]
     },
     "metadata": {},
     "output_type": "display_data"
    }
   ],
   "source": [
    "wine.hist(figsize=(10,10),bins=50)\n",
    "plt.show()"
   ]
  },
  {
   "cell_type": "markdown",
   "metadata": {},
   "source": [
    "# Feature Selection"
   ]
  },
  {
   "cell_type": "code",
   "execution_count": 25,
   "metadata": {},
   "outputs": [
    {
     "data": {
      "text/html": [
       "<div>\n",
       "<style scoped>\n",
       "    .dataframe tbody tr th:only-of-type {\n",
       "        vertical-align: middle;\n",
       "    }\n",
       "\n",
       "    .dataframe tbody tr th {\n",
       "        vertical-align: top;\n",
       "    }\n",
       "\n",
       "    .dataframe thead th {\n",
       "        text-align: right;\n",
       "    }\n",
       "</style>\n",
       "<table border=\"1\" class=\"dataframe\">\n",
       "  <thead>\n",
       "    <tr style=\"text-align: right;\">\n",
       "      <th></th>\n",
       "      <th>density</th>\n",
       "      <th>alcohol</th>\n",
       "      <th>citric_acid</th>\n",
       "      <th>residual_sugar</th>\n",
       "      <th>pH</th>\n",
       "      <th>type</th>\n",
       "      <th>quality</th>\n",
       "    </tr>\n",
       "  </thead>\n",
       "  <tbody>\n",
       "    <tr>\n",
       "      <th>3648</th>\n",
       "      <td>1.924812</td>\n",
       "      <td>5.043478</td>\n",
       "      <td>2.355422</td>\n",
       "      <td>1.835123</td>\n",
       "      <td>2.255814</td>\n",
       "      <td>0</td>\n",
       "      <td>2</td>\n",
       "    </tr>\n",
       "    <tr>\n",
       "      <th>1333</th>\n",
       "      <td>1.674957</td>\n",
       "      <td>7.000000</td>\n",
       "      <td>3.114458</td>\n",
       "      <td>1.165644</td>\n",
       "      <td>3.581395</td>\n",
       "      <td>0</td>\n",
       "      <td>5</td>\n",
       "    </tr>\n",
       "    <tr>\n",
       "      <th>3156</th>\n",
       "      <td>2.688259</td>\n",
       "      <td>2.956522</td>\n",
       "      <td>3.277108</td>\n",
       "      <td>3.001534</td>\n",
       "      <td>2.046512</td>\n",
       "      <td>0</td>\n",
       "      <td>2</td>\n",
       "    </tr>\n",
       "    <tr>\n",
       "      <th>1958</th>\n",
       "      <td>3.531521</td>\n",
       "      <td>1.913043</td>\n",
       "      <td>3.981928</td>\n",
       "      <td>3.208589</td>\n",
       "      <td>2.674419</td>\n",
       "      <td>0</td>\n",
       "      <td>3</td>\n",
       "    </tr>\n",
       "    <tr>\n",
       "      <th>6375</th>\n",
       "      <td>1.817235</td>\n",
       "      <td>8.304348</td>\n",
       "      <td>1.596386</td>\n",
       "      <td>1.220859</td>\n",
       "      <td>6.720930</td>\n",
       "      <td>1</td>\n",
       "      <td>4</td>\n",
       "    </tr>\n",
       "  </tbody>\n",
       "</table>\n",
       "</div>"
      ],
      "text/plain": [
       "       density   alcohol  citric_acid  residual_sugar        pH  type  quality\n",
       "3648  1.924812  5.043478     2.355422        1.835123  2.255814     0        2\n",
       "1333  1.674957  7.000000     3.114458        1.165644  3.581395     0        5\n",
       "3156  2.688259  2.956522     3.277108        3.001534  2.046512     0        2\n",
       "1958  3.531521  1.913043     3.981928        3.208589  2.674419     0        3\n",
       "6375  1.817235  8.304348     1.596386        1.220859  6.720930     1        4"
      ]
     },
     "execution_count": 25,
     "metadata": {},
     "output_type": "execute_result"
    }
   ],
   "source": [
    "wine.sample(5)"
   ]
  },
  {
   "cell_type": "code",
   "execution_count": 26,
   "metadata": {},
   "outputs": [
    {
     "data": {
      "text/plain": [
       "array([3, 2, 4, 5, 1, 0, 6])"
      ]
     },
     "execution_count": 26,
     "metadata": {},
     "output_type": "execute_result"
    }
   ],
   "source": [
    "wine['quality'].unique()"
   ]
  },
  {
   "cell_type": "code",
   "execution_count": 66,
   "metadata": {},
   "outputs": [
    {
     "data": {
      "text/html": [
       "<div>\n",
       "<style scoped>\n",
       "    .dataframe tbody tr th:only-of-type {\n",
       "        vertical-align: middle;\n",
       "    }\n",
       "\n",
       "    .dataframe tbody tr th {\n",
       "        vertical-align: top;\n",
       "    }\n",
       "\n",
       "    .dataframe thead th {\n",
       "        text-align: right;\n",
       "    }\n",
       "</style>\n",
       "<table border=\"1\" class=\"dataframe\">\n",
       "  <thead>\n",
       "    <tr style=\"text-align: right;\">\n",
       "      <th></th>\n",
       "      <th>density</th>\n",
       "      <th>alcohol</th>\n",
       "      <th>citric_acid</th>\n",
       "      <th>residual_sugar</th>\n",
       "      <th>pH</th>\n",
       "      <th>type</th>\n",
       "      <th>quality</th>\n",
       "      <th>goodquality</th>\n",
       "    </tr>\n",
       "  </thead>\n",
       "  <tbody>\n",
       "    <tr>\n",
       "      <th>2207</th>\n",
       "      <td>1.883169</td>\n",
       "      <td>5.304348</td>\n",
       "      <td>2.301205</td>\n",
       "      <td>1.455521</td>\n",
       "      <td>4.000000</td>\n",
       "      <td>0</td>\n",
       "      <td>4</td>\n",
       "      <td>1</td>\n",
       "    </tr>\n",
       "    <tr>\n",
       "      <th>2305</th>\n",
       "      <td>1.801619</td>\n",
       "      <td>6.478261</td>\n",
       "      <td>2.626506</td>\n",
       "      <td>1.607362</td>\n",
       "      <td>5.255814</td>\n",
       "      <td>0</td>\n",
       "      <td>4</td>\n",
       "      <td>1</td>\n",
       "    </tr>\n",
       "    <tr>\n",
       "      <th>1942</th>\n",
       "      <td>3.253904</td>\n",
       "      <td>1.782609</td>\n",
       "      <td>4.090361</td>\n",
       "      <td>2.987730</td>\n",
       "      <td>2.465116</td>\n",
       "      <td>0</td>\n",
       "      <td>2</td>\n",
       "      <td>0</td>\n",
       "    </tr>\n",
       "    <tr>\n",
       "      <th>1640</th>\n",
       "      <td>2.403702</td>\n",
       "      <td>3.608696</td>\n",
       "      <td>3.656627</td>\n",
       "      <td>1.883436</td>\n",
       "      <td>4.418605</td>\n",
       "      <td>0</td>\n",
       "      <td>2</td>\n",
       "      <td>0</td>\n",
       "    </tr>\n",
       "    <tr>\n",
       "      <th>2631</th>\n",
       "      <td>1.612493</td>\n",
       "      <td>5.826087</td>\n",
       "      <td>2.518072</td>\n",
       "      <td>1.248466</td>\n",
       "      <td>4.767442</td>\n",
       "      <td>0</td>\n",
       "      <td>4</td>\n",
       "      <td>1</td>\n",
       "    </tr>\n",
       "  </tbody>\n",
       "</table>\n",
       "</div>"
      ],
      "text/plain": [
       "       density   alcohol  citric_acid  residual_sugar        pH  type  \\\n",
       "2207  1.883169  5.304348     2.301205        1.455521  4.000000     0   \n",
       "2305  1.801619  6.478261     2.626506        1.607362  5.255814     0   \n",
       "1942  3.253904  1.782609     4.090361        2.987730  2.465116     0   \n",
       "1640  2.403702  3.608696     3.656627        1.883436  4.418605     0   \n",
       "2631  1.612493  5.826087     2.518072        1.248466  4.767442     0   \n",
       "\n",
       "      quality  goodquality  \n",
       "2207        4            1  \n",
       "2305        4            1  \n",
       "1942        2            0  \n",
       "1640        2            0  \n",
       "2631        4            1  "
      ]
     },
     "execution_count": 66,
     "metadata": {},
     "output_type": "execute_result"
    }
   ],
   "source": [
    "# If wine quality is 7 or above then will consider as good quality wine\n",
    "wine['goodquality'] = [1 if x >= 3 else 0 for x in wine['quality']]\n",
    "wine.sample(5)"
   ]
  },
  {
   "cell_type": "code",
   "execution_count": 67,
   "metadata": {},
   "outputs": [
    {
     "data": {
      "text/plain": [
       "1    4113\n",
       "0    2384\n",
       "Name: goodquality, dtype: int64"
      ]
     },
     "execution_count": 67,
     "metadata": {},
     "output_type": "execute_result"
    }
   ],
   "source": [
    "# See total number of good vs bad wines samples\n",
    "wine['goodquality'].value_counts()"
   ]
  },
  {
   "cell_type": "code",
   "execution_count": 68,
   "metadata": {},
   "outputs": [],
   "source": [
    "# Separate depedent and indepedent variables\n",
    "X = wine.drop(['quality','goodquality'], axis = 1)\n",
    "y = wine['goodquality']"
   ]
  },
  {
   "cell_type": "code",
   "execution_count": 52,
   "metadata": {},
   "outputs": [
    {
     "data": {
      "text/html": [
       "<div>\n",
       "<style scoped>\n",
       "    .dataframe tbody tr th:only-of-type {\n",
       "        vertical-align: middle;\n",
       "    }\n",
       "\n",
       "    .dataframe tbody tr th {\n",
       "        vertical-align: top;\n",
       "    }\n",
       "\n",
       "    .dataframe thead th {\n",
       "        text-align: right;\n",
       "    }\n",
       "</style>\n",
       "<table border=\"1\" class=\"dataframe\">\n",
       "  <thead>\n",
       "    <tr style=\"text-align: right;\">\n",
       "      <th></th>\n",
       "      <th>density</th>\n",
       "      <th>alcohol</th>\n",
       "      <th>citric_acid</th>\n",
       "      <th>residual_sugar</th>\n",
       "      <th>pH</th>\n",
       "      <th>type</th>\n",
       "    </tr>\n",
       "  </thead>\n",
       "  <tbody>\n",
       "    <tr>\n",
       "      <th>0</th>\n",
       "      <td>3.410064</td>\n",
       "      <td>2.043478</td>\n",
       "      <td>2.951807</td>\n",
       "      <td>3.774540</td>\n",
       "      <td>2.953488</td>\n",
       "      <td>white</td>\n",
       "    </tr>\n",
       "    <tr>\n",
       "      <th>1</th>\n",
       "      <td>2.195489</td>\n",
       "      <td>2.956522</td>\n",
       "      <td>2.843373</td>\n",
       "      <td>1.138037</td>\n",
       "      <td>5.046512</td>\n",
       "      <td>white</td>\n",
       "    </tr>\n",
       "    <tr>\n",
       "      <th>2</th>\n",
       "      <td>2.386350</td>\n",
       "      <td>3.739130</td>\n",
       "      <td>3.168675</td>\n",
       "      <td>1.869632</td>\n",
       "      <td>4.767442</td>\n",
       "      <td>white</td>\n",
       "    </tr>\n",
       "    <tr>\n",
       "      <th>3</th>\n",
       "      <td>2.473106</td>\n",
       "      <td>3.478261</td>\n",
       "      <td>2.734940</td>\n",
       "      <td>2.090491</td>\n",
       "      <td>4.279070</td>\n",
       "      <td>white</td>\n",
       "    </tr>\n",
       "    <tr>\n",
       "      <th>4</th>\n",
       "      <td>2.473106</td>\n",
       "      <td>3.478261</td>\n",
       "      <td>2.734940</td>\n",
       "      <td>2.090491</td>\n",
       "      <td>4.279070</td>\n",
       "      <td>white</td>\n",
       "    </tr>\n",
       "    <tr>\n",
       "      <th>...</th>\n",
       "      <td>...</td>\n",
       "      <td>...</td>\n",
       "      <td>...</td>\n",
       "      <td>...</td>\n",
       "      <td>...</td>\n",
       "      <td>...</td>\n",
       "    </tr>\n",
       "    <tr>\n",
       "      <th>6492</th>\n",
       "      <td>2.351648</td>\n",
       "      <td>4.260870</td>\n",
       "      <td>1.433735</td>\n",
       "      <td>1.193252</td>\n",
       "      <td>6.093023</td>\n",
       "      <td>red</td>\n",
       "    </tr>\n",
       "    <tr>\n",
       "      <th>6493</th>\n",
       "      <td>2.389821</td>\n",
       "      <td>5.173913</td>\n",
       "      <td>1.542169</td>\n",
       "      <td>1.220859</td>\n",
       "      <td>6.581395</td>\n",
       "      <td>red</td>\n",
       "    </tr>\n",
       "    <tr>\n",
       "      <th>6494</th>\n",
       "      <td>2.497397</td>\n",
       "      <td>4.913043</td>\n",
       "      <td>1.704819</td>\n",
       "      <td>1.234663</td>\n",
       "      <td>5.883721</td>\n",
       "      <td>red</td>\n",
       "    </tr>\n",
       "    <tr>\n",
       "      <th>6495</th>\n",
       "      <td>2.450549</td>\n",
       "      <td>3.869565</td>\n",
       "      <td>1.650602</td>\n",
       "      <td>1.193252</td>\n",
       "      <td>6.930233</td>\n",
       "      <td>red</td>\n",
       "    </tr>\n",
       "    <tr>\n",
       "      <th>6496</th>\n",
       "      <td>2.454020</td>\n",
       "      <td>4.913043</td>\n",
       "      <td>3.548193</td>\n",
       "      <td>1.414110</td>\n",
       "      <td>5.674419</td>\n",
       "      <td>red</td>\n",
       "    </tr>\n",
       "  </tbody>\n",
       "</table>\n",
       "<p>6497 rows × 6 columns</p>\n",
       "</div>"
      ],
      "text/plain": [
       "       density   alcohol  citric_acid  residual_sugar        pH   type\n",
       "0     3.410064  2.043478     2.951807        3.774540  2.953488  white\n",
       "1     2.195489  2.956522     2.843373        1.138037  5.046512  white\n",
       "2     2.386350  3.739130     3.168675        1.869632  4.767442  white\n",
       "3     2.473106  3.478261     2.734940        2.090491  4.279070  white\n",
       "4     2.473106  3.478261     2.734940        2.090491  4.279070  white\n",
       "...        ...       ...          ...             ...       ...    ...\n",
       "6492  2.351648  4.260870     1.433735        1.193252  6.093023    red\n",
       "6493  2.389821  5.173913     1.542169        1.220859  6.581395    red\n",
       "6494  2.497397  4.913043     1.704819        1.234663  5.883721    red\n",
       "6495  2.450549  3.869565     1.650602        1.193252  6.930233    red\n",
       "6496  2.454020  4.913043     3.548193        1.414110  5.674419    red\n",
       "\n",
       "[6497 rows x 6 columns]"
      ]
     },
     "execution_count": 52,
     "metadata": {},
     "output_type": "execute_result"
    }
   ],
   "source": [
    "X"
   ]
  },
  {
   "cell_type": "code",
   "execution_count": 69,
   "metadata": {},
   "outputs": [
    {
     "name": "stdout",
     "output_type": "stream",
     "text": [
      "0       1\n",
      "1       1\n",
      "2       1\n",
      "3       1\n",
      "4       1\n",
      "       ..\n",
      "6492    0\n",
      "6493    1\n",
      "6494    1\n",
      "6495    0\n",
      "6496    1\n",
      "Name: goodquality, Length: 6497, dtype: int64\n"
     ]
    }
   ],
   "source": [
    "print(y)"
   ]
  },
  {
   "cell_type": "markdown",
   "metadata": {},
   "source": [
    "# Feature Importance"
   ]
  },
  {
   "cell_type": "code",
   "execution_count": 70,
   "metadata": {},
   "outputs": [
    {
     "name": "stdout",
     "output_type": "stream",
     "text": [
      "[0.20371434 0.25302955 0.18363675 0.17584452 0.17065037 0.01312447]\n"
     ]
    }
   ],
   "source": [
    "from sklearn.ensemble import ExtraTreesClassifier\n",
    "classifiern = ExtraTreesClassifier()\n",
    "classifiern.fit(X,y)\n",
    "score = classifiern.feature_importances_\n",
    "print(score)"
   ]
  },
  {
   "cell_type": "markdown",
   "metadata": {},
   "source": [
    "# Splitting Dataset"
   ]
  },
  {
   "cell_type": "code",
   "execution_count": 71,
   "metadata": {},
   "outputs": [],
   "source": [
    "from sklearn.model_selection import train_test_split\n",
    "X_train, X_test, y_train, y_test = train_test_split(X,y,test_size=0.3,random_state=7)"
   ]
  },
  {
   "cell_type": "markdown",
   "metadata": {},
   "source": [
    "# Result"
   ]
  },
  {
   "cell_type": "code",
   "execution_count": 72,
   "metadata": {},
   "outputs": [],
   "source": [
    "model_res=pd.DataFrame(columns=['Model', 'Score'])"
   ]
  },
  {
   "cell_type": "markdown",
   "metadata": {},
   "source": [
    "# LogisticRegression:"
   ]
  },
  {
   "cell_type": "code",
   "execution_count": 73,
   "metadata": {},
   "outputs": [
    {
     "data": {
      "text/html": [
       "<div>\n",
       "<style scoped>\n",
       "    .dataframe tbody tr th:only-of-type {\n",
       "        vertical-align: middle;\n",
       "    }\n",
       "\n",
       "    .dataframe tbody tr th {\n",
       "        vertical-align: top;\n",
       "    }\n",
       "\n",
       "    .dataframe thead th {\n",
       "        text-align: right;\n",
       "    }\n",
       "</style>\n",
       "<table border=\"1\" class=\"dataframe\">\n",
       "  <thead>\n",
       "    <tr style=\"text-align: right;\">\n",
       "      <th></th>\n",
       "      <th>Model</th>\n",
       "      <th>Score</th>\n",
       "    </tr>\n",
       "  </thead>\n",
       "  <tbody>\n",
       "    <tr>\n",
       "      <th>0</th>\n",
       "      <td>LogisticRegression</td>\n",
       "      <td>0.71641</td>\n",
       "    </tr>\n",
       "  </tbody>\n",
       "</table>\n",
       "</div>"
      ],
      "text/plain": [
       "                Model    Score\n",
       "0  LogisticRegression  0.71641"
      ]
     },
     "execution_count": 73,
     "metadata": {},
     "output_type": "execute_result"
    }
   ],
   "source": [
    "from sklearn.linear_model import LogisticRegression\n",
    "model = LogisticRegression()\n",
    "model.fit(X_train,y_train)\n",
    "y_pred = model.predict(X_test)\n",
    "\n",
    "from sklearn.metrics import accuracy_score,confusion_matrix\n",
    "# accuracy_score(Y_test,Y_pred)\n",
    "model_res.loc[len(model_res)] = ['LogisticRegression', accuracy_score(y_test,y_pred)]\n",
    "model_res\n",
    "\n"
   ]
  },
  {
   "cell_type": "markdown",
   "metadata": {},
   "source": [
    "# Using KNN:"
   ]
  },
  {
   "cell_type": "code",
   "execution_count": 74,
   "metadata": {},
   "outputs": [
    {
     "data": {
      "text/html": [
       "<div>\n",
       "<style scoped>\n",
       "    .dataframe tbody tr th:only-of-type {\n",
       "        vertical-align: middle;\n",
       "    }\n",
       "\n",
       "    .dataframe tbody tr th {\n",
       "        vertical-align: top;\n",
       "    }\n",
       "\n",
       "    .dataframe thead th {\n",
       "        text-align: right;\n",
       "    }\n",
       "</style>\n",
       "<table border=\"1\" class=\"dataframe\">\n",
       "  <thead>\n",
       "    <tr style=\"text-align: right;\">\n",
       "      <th></th>\n",
       "      <th>Model</th>\n",
       "      <th>Score</th>\n",
       "    </tr>\n",
       "  </thead>\n",
       "  <tbody>\n",
       "    <tr>\n",
       "      <th>0</th>\n",
       "      <td>LogisticRegression</td>\n",
       "      <td>0.716410</td>\n",
       "    </tr>\n",
       "    <tr>\n",
       "      <th>1</th>\n",
       "      <td>KNeighborsClassifier</td>\n",
       "      <td>0.717436</td>\n",
       "    </tr>\n",
       "  </tbody>\n",
       "</table>\n",
       "</div>"
      ],
      "text/plain": [
       "                  Model     Score\n",
       "0    LogisticRegression  0.716410\n",
       "1  KNeighborsClassifier  0.717436"
      ]
     },
     "execution_count": 74,
     "metadata": {},
     "output_type": "execute_result"
    }
   ],
   "source": [
    "from sklearn.neighbors import KNeighborsClassifier\n",
    "model = KNeighborsClassifier(n_neighbors=3)\n",
    "model.fit(X_train,y_train)\n",
    "y_pred = model.predict(X_test)\n",
    "\n",
    "from sklearn.metrics import accuracy_score\n",
    "model_res.loc[len(model_res)] = ['KNeighborsClassifier', accuracy_score(y_test,y_pred)]\n",
    "model_res"
   ]
  },
  {
   "cell_type": "markdown",
   "metadata": {},
   "source": [
    "##### Using SVC:"
   ]
  },
  {
   "cell_type": "code",
   "execution_count": 75,
   "metadata": {},
   "outputs": [
    {
     "name": "stdout",
     "output_type": "stream",
     "text": [
      "Accuracy Score: 0.7251282051282051\n"
     ]
    },
    {
     "data": {
      "text/html": [
       "<div>\n",
       "<style scoped>\n",
       "    .dataframe tbody tr th:only-of-type {\n",
       "        vertical-align: middle;\n",
       "    }\n",
       "\n",
       "    .dataframe tbody tr th {\n",
       "        vertical-align: top;\n",
       "    }\n",
       "\n",
       "    .dataframe thead th {\n",
       "        text-align: right;\n",
       "    }\n",
       "</style>\n",
       "<table border=\"1\" class=\"dataframe\">\n",
       "  <thead>\n",
       "    <tr style=\"text-align: right;\">\n",
       "      <th></th>\n",
       "      <th>Model</th>\n",
       "      <th>Score</th>\n",
       "    </tr>\n",
       "  </thead>\n",
       "  <tbody>\n",
       "    <tr>\n",
       "      <th>0</th>\n",
       "      <td>LogisticRegression</td>\n",
       "      <td>0.716410</td>\n",
       "    </tr>\n",
       "    <tr>\n",
       "      <th>1</th>\n",
       "      <td>KNeighborsClassifier</td>\n",
       "      <td>0.717436</td>\n",
       "    </tr>\n",
       "    <tr>\n",
       "      <th>2</th>\n",
       "      <td>SVC</td>\n",
       "      <td>0.725128</td>\n",
       "    </tr>\n",
       "  </tbody>\n",
       "</table>\n",
       "</div>"
      ],
      "text/plain": [
       "                  Model     Score\n",
       "0    LogisticRegression  0.716410\n",
       "1  KNeighborsClassifier  0.717436\n",
       "2                   SVC  0.725128"
      ]
     },
     "execution_count": 75,
     "metadata": {},
     "output_type": "execute_result"
    }
   ],
   "source": [
    "from sklearn.svm import SVC\n",
    "model = SVC()\n",
    "model.fit(X_train,y_train)\n",
    "y_pred = model.predict(X_test)\n",
    "\n",
    "from sklearn.metrics import accuracy_score\n",
    "print(\"Accuracy Score:\",accuracy_score(y_test,y_pred))\n",
    "model_res.loc[len(model_res)] = ['SVC', accuracy_score(y_test,y_pred)]\n",
    "model_res"
   ]
  },
  {
   "cell_type": "markdown",
   "metadata": {},
   "source": [
    "# Using Decision Tree:"
   ]
  },
  {
   "cell_type": "code",
   "execution_count": 76,
   "metadata": {},
   "outputs": [
    {
     "name": "stdout",
     "output_type": "stream",
     "text": [
      "Accuracy Score: 0.757948717948718\n"
     ]
    },
    {
     "data": {
      "text/html": [
       "<div>\n",
       "<style scoped>\n",
       "    .dataframe tbody tr th:only-of-type {\n",
       "        vertical-align: middle;\n",
       "    }\n",
       "\n",
       "    .dataframe tbody tr th {\n",
       "        vertical-align: top;\n",
       "    }\n",
       "\n",
       "    .dataframe thead th {\n",
       "        text-align: right;\n",
       "    }\n",
       "</style>\n",
       "<table border=\"1\" class=\"dataframe\">\n",
       "  <thead>\n",
       "    <tr style=\"text-align: right;\">\n",
       "      <th></th>\n",
       "      <th>Model</th>\n",
       "      <th>Score</th>\n",
       "    </tr>\n",
       "  </thead>\n",
       "  <tbody>\n",
       "    <tr>\n",
       "      <th>0</th>\n",
       "      <td>LogisticRegression</td>\n",
       "      <td>0.716410</td>\n",
       "    </tr>\n",
       "    <tr>\n",
       "      <th>1</th>\n",
       "      <td>KNeighborsClassifier</td>\n",
       "      <td>0.717436</td>\n",
       "    </tr>\n",
       "    <tr>\n",
       "      <th>2</th>\n",
       "      <td>SVC</td>\n",
       "      <td>0.725128</td>\n",
       "    </tr>\n",
       "    <tr>\n",
       "      <th>3</th>\n",
       "      <td>DecisionTreeClassifier</td>\n",
       "      <td>0.757949</td>\n",
       "    </tr>\n",
       "  </tbody>\n",
       "</table>\n",
       "</div>"
      ],
      "text/plain": [
       "                    Model     Score\n",
       "0      LogisticRegression  0.716410\n",
       "1    KNeighborsClassifier  0.717436\n",
       "2                     SVC  0.725128\n",
       "3  DecisionTreeClassifier  0.757949"
      ]
     },
     "execution_count": 76,
     "metadata": {},
     "output_type": "execute_result"
    }
   ],
   "source": [
    "from sklearn.tree import DecisionTreeClassifier\n",
    "model = DecisionTreeClassifier(criterion='entropy',random_state=7)\n",
    "model.fit(X_train,y_train)\n",
    "y_pred = model.predict(X_test)\n",
    "\n",
    "from sklearn.metrics import accuracy_score\n",
    "print(\"Accuracy Score:\",accuracy_score(y_test,y_pred))\n",
    "model_res.loc[len(model_res)] = ['DecisionTreeClassifier', accuracy_score(y_test,y_pred)]\n",
    "model_res"
   ]
  },
  {
   "cell_type": "markdown",
   "metadata": {},
   "source": [
    "# Using GaussianNB:"
   ]
  },
  {
   "cell_type": "code",
   "execution_count": 77,
   "metadata": {},
   "outputs": [
    {
     "name": "stdout",
     "output_type": "stream",
     "text": [
      "Accuracy Score: 0.6671794871794872\n"
     ]
    },
    {
     "data": {
      "text/html": [
       "<div>\n",
       "<style scoped>\n",
       "    .dataframe tbody tr th:only-of-type {\n",
       "        vertical-align: middle;\n",
       "    }\n",
       "\n",
       "    .dataframe tbody tr th {\n",
       "        vertical-align: top;\n",
       "    }\n",
       "\n",
       "    .dataframe thead th {\n",
       "        text-align: right;\n",
       "    }\n",
       "</style>\n",
       "<table border=\"1\" class=\"dataframe\">\n",
       "  <thead>\n",
       "    <tr style=\"text-align: right;\">\n",
       "      <th></th>\n",
       "      <th>Model</th>\n",
       "      <th>Score</th>\n",
       "    </tr>\n",
       "  </thead>\n",
       "  <tbody>\n",
       "    <tr>\n",
       "      <th>0</th>\n",
       "      <td>LogisticRegression</td>\n",
       "      <td>0.716410</td>\n",
       "    </tr>\n",
       "    <tr>\n",
       "      <th>1</th>\n",
       "      <td>KNeighborsClassifier</td>\n",
       "      <td>0.717436</td>\n",
       "    </tr>\n",
       "    <tr>\n",
       "      <th>2</th>\n",
       "      <td>SVC</td>\n",
       "      <td>0.725128</td>\n",
       "    </tr>\n",
       "    <tr>\n",
       "      <th>3</th>\n",
       "      <td>DecisionTreeClassifier</td>\n",
       "      <td>0.757949</td>\n",
       "    </tr>\n",
       "    <tr>\n",
       "      <th>4</th>\n",
       "      <td>GaussianNB</td>\n",
       "      <td>0.667179</td>\n",
       "    </tr>\n",
       "  </tbody>\n",
       "</table>\n",
       "</div>"
      ],
      "text/plain": [
       "                    Model     Score\n",
       "0      LogisticRegression  0.716410\n",
       "1    KNeighborsClassifier  0.717436\n",
       "2                     SVC  0.725128\n",
       "3  DecisionTreeClassifier  0.757949\n",
       "4              GaussianNB  0.667179"
      ]
     },
     "execution_count": 77,
     "metadata": {},
     "output_type": "execute_result"
    }
   ],
   "source": [
    "from sklearn.naive_bayes import GaussianNB\n",
    "model3 = GaussianNB()\n",
    "model3.fit(X_train,y_train)\n",
    "y_pred = model3.predict(X_test)\n",
    "\n",
    "from sklearn.metrics import accuracy_score\n",
    "print(\"Accuracy Score:\",accuracy_score(y_test,y_pred))\n",
    "model_res.loc[len(model_res)] = ['GaussianNB', accuracy_score(y_test,y_pred)]\n",
    "model_res"
   ]
  },
  {
   "cell_type": "markdown",
   "metadata": {},
   "source": [
    "# Using Random Forest:"
   ]
  },
  {
   "cell_type": "code",
   "execution_count": 78,
   "metadata": {},
   "outputs": [
    {
     "name": "stdout",
     "output_type": "stream",
     "text": [
      "Accuracy Score: 0.7830769230769231\n"
     ]
    },
    {
     "data": {
      "text/html": [
       "<div>\n",
       "<style scoped>\n",
       "    .dataframe tbody tr th:only-of-type {\n",
       "        vertical-align: middle;\n",
       "    }\n",
       "\n",
       "    .dataframe tbody tr th {\n",
       "        vertical-align: top;\n",
       "    }\n",
       "\n",
       "    .dataframe thead th {\n",
       "        text-align: right;\n",
       "    }\n",
       "</style>\n",
       "<table border=\"1\" class=\"dataframe\">\n",
       "  <thead>\n",
       "    <tr style=\"text-align: right;\">\n",
       "      <th></th>\n",
       "      <th>Model</th>\n",
       "      <th>Score</th>\n",
       "    </tr>\n",
       "  </thead>\n",
       "  <tbody>\n",
       "    <tr>\n",
       "      <th>0</th>\n",
       "      <td>LogisticRegression</td>\n",
       "      <td>0.716410</td>\n",
       "    </tr>\n",
       "    <tr>\n",
       "      <th>1</th>\n",
       "      <td>KNeighborsClassifier</td>\n",
       "      <td>0.717436</td>\n",
       "    </tr>\n",
       "    <tr>\n",
       "      <th>2</th>\n",
       "      <td>SVC</td>\n",
       "      <td>0.725128</td>\n",
       "    </tr>\n",
       "    <tr>\n",
       "      <th>3</th>\n",
       "      <td>DecisionTreeClassifier</td>\n",
       "      <td>0.757949</td>\n",
       "    </tr>\n",
       "    <tr>\n",
       "      <th>4</th>\n",
       "      <td>GaussianNB</td>\n",
       "      <td>0.667179</td>\n",
       "    </tr>\n",
       "    <tr>\n",
       "      <th>5</th>\n",
       "      <td>RandomForestClassifier</td>\n",
       "      <td>0.783077</td>\n",
       "    </tr>\n",
       "  </tbody>\n",
       "</table>\n",
       "</div>"
      ],
      "text/plain": [
       "                    Model     Score\n",
       "0      LogisticRegression  0.716410\n",
       "1    KNeighborsClassifier  0.717436\n",
       "2                     SVC  0.725128\n",
       "3  DecisionTreeClassifier  0.757949\n",
       "4              GaussianNB  0.667179\n",
       "5  RandomForestClassifier  0.783077"
      ]
     },
     "execution_count": 78,
     "metadata": {},
     "output_type": "execute_result"
    }
   ],
   "source": [
    "from sklearn.ensemble import RandomForestClassifier\n",
    "model2 = RandomForestClassifier(random_state=1)\n",
    "model2.fit(X_train, y_train)\n",
    "y_pred = model2.predict(X_test)\n",
    "\n",
    "from sklearn.metrics import accuracy_score\n",
    "print(\"Accuracy Score:\",accuracy_score(y_test,y_pred))\n",
    "model_res.loc[len(model_res)] = ['RandomForestClassifier', accuracy_score(y_test,y_pred)]\n",
    "model_res"
   ]
  },
  {
   "cell_type": "markdown",
   "metadata": {},
   "source": [
    "# Using Xgboost:"
   ]
  },
  {
   "cell_type": "code",
   "execution_count": 79,
   "metadata": {},
   "outputs": [
    {
     "name": "stdout",
     "output_type": "stream",
     "text": [
      "Accuracy Score: 0.757948717948718\n"
     ]
    },
    {
     "data": {
      "text/html": [
       "<div>\n",
       "<style scoped>\n",
       "    .dataframe tbody tr th:only-of-type {\n",
       "        vertical-align: middle;\n",
       "    }\n",
       "\n",
       "    .dataframe tbody tr th {\n",
       "        vertical-align: top;\n",
       "    }\n",
       "\n",
       "    .dataframe thead th {\n",
       "        text-align: right;\n",
       "    }\n",
       "</style>\n",
       "<table border=\"1\" class=\"dataframe\">\n",
       "  <thead>\n",
       "    <tr style=\"text-align: right;\">\n",
       "      <th></th>\n",
       "      <th>Model</th>\n",
       "      <th>Score</th>\n",
       "    </tr>\n",
       "  </thead>\n",
       "  <tbody>\n",
       "    <tr>\n",
       "      <th>0</th>\n",
       "      <td>LogisticRegression</td>\n",
       "      <td>0.716410</td>\n",
       "    </tr>\n",
       "    <tr>\n",
       "      <th>1</th>\n",
       "      <td>KNeighborsClassifier</td>\n",
       "      <td>0.717436</td>\n",
       "    </tr>\n",
       "    <tr>\n",
       "      <th>2</th>\n",
       "      <td>SVC</td>\n",
       "      <td>0.725128</td>\n",
       "    </tr>\n",
       "    <tr>\n",
       "      <th>3</th>\n",
       "      <td>DecisionTreeClassifier</td>\n",
       "      <td>0.757949</td>\n",
       "    </tr>\n",
       "    <tr>\n",
       "      <th>4</th>\n",
       "      <td>GaussianNB</td>\n",
       "      <td>0.667179</td>\n",
       "    </tr>\n",
       "    <tr>\n",
       "      <th>5</th>\n",
       "      <td>RandomForestClassifier</td>\n",
       "      <td>0.783077</td>\n",
       "    </tr>\n",
       "    <tr>\n",
       "      <th>6</th>\n",
       "      <td>XGBClassifier</td>\n",
       "      <td>0.757949</td>\n",
       "    </tr>\n",
       "  </tbody>\n",
       "</table>\n",
       "</div>"
      ],
      "text/plain": [
       "                    Model     Score\n",
       "0      LogisticRegression  0.716410\n",
       "1    KNeighborsClassifier  0.717436\n",
       "2                     SVC  0.725128\n",
       "3  DecisionTreeClassifier  0.757949\n",
       "4              GaussianNB  0.667179\n",
       "5  RandomForestClassifier  0.783077\n",
       "6           XGBClassifier  0.757949"
      ]
     },
     "execution_count": 79,
     "metadata": {},
     "output_type": "execute_result"
    }
   ],
   "source": [
    "import xgboost as xgb\n",
    "model5 = xgb.XGBClassifier(random_state=1)\n",
    "model5.fit(X_train, y_train)\n",
    "y_pred = model5.predict(X_test)\n",
    "\n",
    "from sklearn.metrics import accuracy_score\n",
    "print(\"Accuracy Score:\",accuracy_score(y_test,y_pred))\n",
    "model_res.loc[len(model_res)] = ['XGBClassifier', accuracy_score(y_test,y_pred)]\n",
    "model_res"
   ]
  },
  {
   "cell_type": "code",
   "execution_count": 80,
   "metadata": {},
   "outputs": [
    {
     "data": {
      "text/html": [
       "<div>\n",
       "<style scoped>\n",
       "    .dataframe tbody tr th:only-of-type {\n",
       "        vertical-align: middle;\n",
       "    }\n",
       "\n",
       "    .dataframe tbody tr th {\n",
       "        vertical-align: top;\n",
       "    }\n",
       "\n",
       "    .dataframe thead th {\n",
       "        text-align: right;\n",
       "    }\n",
       "</style>\n",
       "<table border=\"1\" class=\"dataframe\">\n",
       "  <thead>\n",
       "    <tr style=\"text-align: right;\">\n",
       "      <th></th>\n",
       "      <th>Model</th>\n",
       "      <th>Score</th>\n",
       "    </tr>\n",
       "  </thead>\n",
       "  <tbody>\n",
       "    <tr>\n",
       "      <th>5</th>\n",
       "      <td>RandomForestClassifier</td>\n",
       "      <td>0.783077</td>\n",
       "    </tr>\n",
       "    <tr>\n",
       "      <th>3</th>\n",
       "      <td>DecisionTreeClassifier</td>\n",
       "      <td>0.757949</td>\n",
       "    </tr>\n",
       "    <tr>\n",
       "      <th>6</th>\n",
       "      <td>XGBClassifier</td>\n",
       "      <td>0.757949</td>\n",
       "    </tr>\n",
       "    <tr>\n",
       "      <th>2</th>\n",
       "      <td>SVC</td>\n",
       "      <td>0.725128</td>\n",
       "    </tr>\n",
       "    <tr>\n",
       "      <th>1</th>\n",
       "      <td>KNeighborsClassifier</td>\n",
       "      <td>0.717436</td>\n",
       "    </tr>\n",
       "    <tr>\n",
       "      <th>0</th>\n",
       "      <td>LogisticRegression</td>\n",
       "      <td>0.716410</td>\n",
       "    </tr>\n",
       "    <tr>\n",
       "      <th>4</th>\n",
       "      <td>GaussianNB</td>\n",
       "      <td>0.667179</td>\n",
       "    </tr>\n",
       "  </tbody>\n",
       "</table>\n",
       "</div>"
      ],
      "text/plain": [
       "                    Model     Score\n",
       "5  RandomForestClassifier  0.783077\n",
       "3  DecisionTreeClassifier  0.757949\n",
       "6           XGBClassifier  0.757949\n",
       "2                     SVC  0.725128\n",
       "1    KNeighborsClassifier  0.717436\n",
       "0      LogisticRegression  0.716410\n",
       "4              GaussianNB  0.667179"
      ]
     },
     "execution_count": 80,
     "metadata": {},
     "output_type": "execute_result"
    }
   ],
   "source": [
    "model_res = model_res.sort_values(by='Score', ascending=False)\n",
    "model_res"
   ]
  },
  {
   "cell_type": "code",
   "execution_count": 81,
   "metadata": {},
   "outputs": [],
   "source": [
    "def complete_model(data):\n",
    "    # Separate depedent and indepedent variables\n",
    "    X = wine.drop(['quality','goodquality'], axis = 1)\n",
    "    y = wine['goodquality']\n",
    "    X_train, X_test, y_train, y_test = train_test_split(X,y,test_size=0.3,random_state=7)\n",
    "\n",
    "    # logistic regression\n",
    "    model_lr = LogisticRegression(penalty = 'l2', solver='lbfgs')\n",
    "    model_lr.fit(X_train, y_train)\n",
    "    joblib.dump(model_lr, '/Users/yunperez/Documents/GitHub/EC_Project/data/model_lr.joblib')\n",
    "    \n",
    "    # KNN\n",
    "    model_knn=KNeighborsClassifier(n_neighbors=3, weights='uniform', algorithm='auto')\n",
    "    model_knn.fit(X_train, y_train)\n",
    "    joblib.dump(model_knn,'/Users/yunperez/Documents/GitHub/EC_Project/data/model_knn.joblib')\n",
    "\n",
    "    # SVC\n",
    "    model_svc=SVC()\n",
    "    model_svc.fit(X_train, y_train)\n",
    "    joblib.dump(model_svc, '/Users/yunperez/Documents/GitHub/EC_Project/data/model_svc.joblib')\n",
    "\n",
    "    # Decision Tree Classifier\n",
    "    model_dtc = DecisionTreeClassifier(criterion='entropy',random_state=7)\n",
    "    model_dtc.fit(X_train, y_train)\n",
    "    joblib.dump(model_dtc, '/Users/yunperez/Documents/GitHub/EC_Project/data/model_dtc.joblib')\n",
    "\n",
    "    # GaussianNB\n",
    "    model_gnb = GaussianNB()\n",
    "    model_gnb.fit(X_train, y_train)\n",
    "    joblib.dump(model_gnb, '/Users/yunperez/Documents/GitHub/EC_Project/data/model_gnb.joblib')\n",
    "\n",
    "    # Random Forest Classifier\n",
    "    model_rfc = RandomForestClassifier(random_state=1)\n",
    "    model_rfc.fit(X_train, y_train)\n",
    "    joblib.dump(model_rfc, '/Users/yunperez/Documents/GitHub/EC_Project/data/model_rfc.joblib')\n",
    "\n",
    "    # xgboost\n",
    "    model_xgb = xgb.XGBClassifier(random_state=1)\n",
    "    model_xgb.fit(X_train, y_train)\n",
    "    joblib.dump(model_xgb, '/Users/yunperez/Documents/GitHub/EC_Project/data/model_xgb.joblib')\n",
    "        \n",
    "    acc_lr = accuracy_score(y_test, joblib.load('/Users/yunperez/Documents/GitHub/EC_Project/data/model_lr.joblib').predict(X_test))\n",
    "    acc_knn = accuracy_score(y_test, joblib.load('/Users/yunperez/Documents/GitHub/EC_Project/data/model_knn.joblib').predict(X_test))\n",
    "    acc_svc = accuracy_score(y_test, joblib.load('/Users/yunperez/Documents/GitHub/EC_Project/data/model_svc.joblib').predict(X_test))\n",
    "    acc_dtc = accuracy_score(y_test, joblib.load('/Users/yunperez/Documents/GitHub/EC_Project/data/model_dtc.joblib').predict(X_test))\n",
    "    acc_gnb = accuracy_score(y_test, joblib.load('/Users/yunperez/Documents/GitHub/EC_Project/data/model_gnb.joblib').predict(X_test))\n",
    "    acc_rfc = accuracy_score(y_test, joblib.load('/Users/yunperez/Documents/GitHub/EC_Project/data/model_rfc.joblib').predict(X_test))\n",
    "    acc_xgb = accuracy_score(y_test, joblib.load('/Users/yunperez/Documents/GitHub/EC_Project/data/model_xgb.joblib').predict(X_test))\n",
    "\n",
    "\n",
    "    acc_dic = {\"LR\": acc_lr,\"KNN\": acc_knn,\"SVC\": acc_svc, \"DecisionTreeClassifier\": acc_dtc, \"GaussianNB\": acc_gnb, \"RandomForestClassifier\": acc_rfc,\"XGB\": acc_xgb}\n",
    "    print(\"####### Las precisiones de los modelos son: \", acc_dic)\n",
    "                  \n",
    "    mejor_modelo=max(acc_dic, key=acc_dic.get)\n",
    "    acc_mejor_modelo=max(acc_dic.values())\n",
    "                  \n",
    "    print(\"####### Mejor modelo: \", mejor_modelo)\n",
    "    print(\"####### El accuracy del mejor modelo es: \", acc_mejor_modelo)\n"
   ]
  },
  {
   "cell_type": "markdown",
   "metadata": {},
   "source": [
    "Desempeño de los modelos"
   ]
  },
  {
   "cell_type": "code",
   "execution_count": 82,
   "metadata": {},
   "outputs": [
    {
     "name": "stdout",
     "output_type": "stream",
     "text": [
      "####### Las precisiones de los modelos son:  {'LR': 0.7164102564102565, 'KNN': 0.7174358974358974, 'SVC': 0.7251282051282051, 'DecisionTreeClassifier': 0.757948717948718, 'GaussianNB': 0.6671794871794872, 'RandomForestClassifier': 0.7830769230769231, 'XGB': 0.757948717948718}\n",
      "####### Mejor modelo:  RandomForestClassifier\n",
      "####### El accuracy del mejor modelo es:  0.7830769230769231\n"
     ]
    }
   ],
   "source": [
    "\n",
    "complete_model(pd.concat([X_train, y_train], axis=1))"
   ]
  },
  {
   "cell_type": "code",
   "execution_count": 83,
   "metadata": {},
   "outputs": [
    {
     "name": "stdout",
     "output_type": "stream",
     "text": [
      "Test score: 78.31 %\n"
     ]
    }
   ],
   "source": [
    "# Separate dependent and independent variables\n",
    "X = wine.drop(['quality', 'goodquality'], axis=1)\n",
    "y = wine['goodquality']\n",
    "X_train, X_test, y_train, y_test = train_test_split(X, y, test_size=0.3, random_state=7)\n",
    "\n",
    "# Random Forest Classifier\n",
    "model_rfc = RandomForestClassifier(random_state=1)\n",
    "model_rfc.fit(X_train, y_train)\n",
    "joblib.dump(model_rfc, '/Users/yunperez/Documents/GitHub/EC_Project/data/model_rfc.joblib')\n",
    "\n",
    "loaded_model_pred = joblib.load('/Users/yunperez/Documents/GitHub/EC_Project/data/model_rfc.joblib')\n",
    "result = loaded_model_pred.score(X_test, y_test)\n",
    "\n",
    "# Corregir la variable usada para la puntuación y predicciones\n",
    "score = loaded_model_pred.score(X_test, y_test)\n",
    "print(\"Test score: {0:.2f} %\".format(100 * score))\n",
    "Ypredict = loaded_model_pred.predict(X_test)\n"
   ]
  },
  {
   "cell_type": "code",
   "execution_count": 84,
   "metadata": {},
   "outputs": [
    {
     "data": {
      "text/plain": [
       "0       1\n",
       "1       1\n",
       "2       1\n",
       "3       1\n",
       "4       1\n",
       "       ..\n",
       "6492    0\n",
       "6493    1\n",
       "6494    1\n",
       "6495    0\n",
       "6496    1\n",
       "Name: goodquality, Length: 6497, dtype: int64"
      ]
     },
     "execution_count": 84,
     "metadata": {},
     "output_type": "execute_result"
    }
   ],
   "source": [
    "wine['goodquality']\n"
   ]
  },
  {
   "cell_type": "code",
   "execution_count": 87,
   "metadata": {},
   "outputs": [
    {
     "data": {
      "text/html": [
       "<div>\n",
       "<style scoped>\n",
       "    .dataframe tbody tr th:only-of-type {\n",
       "        vertical-align: middle;\n",
       "    }\n",
       "\n",
       "    .dataframe tbody tr th {\n",
       "        vertical-align: top;\n",
       "    }\n",
       "\n",
       "    .dataframe thead th {\n",
       "        text-align: right;\n",
       "    }\n",
       "</style>\n",
       "<table border=\"1\" class=\"dataframe\">\n",
       "  <thead>\n",
       "    <tr style=\"text-align: right;\">\n",
       "      <th></th>\n",
       "      <th>density</th>\n",
       "      <th>alcohol</th>\n",
       "      <th>citric_acid</th>\n",
       "      <th>residual_sugar</th>\n",
       "      <th>pH</th>\n",
       "      <th>type</th>\n",
       "    </tr>\n",
       "  </thead>\n",
       "  <tbody>\n",
       "    <tr>\n",
       "      <th>0</th>\n",
       "      <td>1.952574</td>\n",
       "      <td>0.0</td>\n",
       "      <td>2.192771</td>\n",
       "      <td>1.303681</td>\n",
       "      <td>3.162791</td>\n",
       "      <td>1</td>\n",
       "    </tr>\n",
       "  </tbody>\n",
       "</table>\n",
       "</div>"
      ],
      "text/plain": [
       "    density  alcohol  citric_acid  residual_sugar        pH  type\n",
       "0  1.952574      0.0     2.192771        1.303681  3.162791     1"
      ]
     },
     "execution_count": 87,
     "metadata": {},
     "output_type": "execute_result"
    }
   ],
   "source": [
    "d = {'density': [1.952574], 'alcohol': [0.0], 'citric_acid': [2.192771], 'residual_sugar': [1.303681], 'pH': [3.162791], 'type': [1]}\n",
    "df = pd.DataFrame(d)\n",
    "df"
   ]
  },
  {
   "cell_type": "code",
   "execution_count": 88,
   "metadata": {},
   "outputs": [
    {
     "data": {
      "text/plain": [
       "array([0])"
      ]
     },
     "execution_count": 88,
     "metadata": {},
     "output_type": "execute_result"
    }
   ],
   "source": [
    "loaded_model_pred.predict(df)"
   ]
  }
 ],
 "metadata": {
  "kernelspec": {
   "display_name": "Python 3 (ipykernel)",
   "language": "python",
   "name": "python3"
  },
  "language_info": {
   "codemirror_mode": {
    "name": "ipython",
    "version": 3
   },
   "file_extension": ".py",
   "mimetype": "text/x-python",
   "name": "python",
   "nbconvert_exporter": "python",
   "pygments_lexer": "ipython3",
   "version": "3.11.4"
  }
 },
 "nbformat": 4,
 "nbformat_minor": 4
}
